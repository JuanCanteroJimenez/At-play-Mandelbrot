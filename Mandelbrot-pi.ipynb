{
 "cells": [
  {
   "cell_type": "code",
   "execution_count": 2,
   "metadata": {},
   "outputs": [],
   "source": [
    "import numpy as np"
   ]
  },
  {
   "cell_type": "code",
   "execution_count": 3,
   "metadata": {},
   "outputs": [
    {
     "data": {
      "text/plain": [
       "3.067409330363328"
      ]
     },
     "execution_count": 3,
     "metadata": {},
     "output_type": "execute_result"
    }
   ],
   "source": [
    "\n",
    "\n",
    "def pi(epsilon):\n",
    "    point = 0.25 + epsilon\n",
    "    i = np.array(0)\n",
    "    m = np.array(0)\n",
    "    while(True):\n",
    "        if (i < 2):\n",
    "            pass\n",
    "        else:\n",
    "            break\n",
    "        i = i*i + point\n",
    "        #print(i)\n",
    "        m += np.array(1)\n",
    "        #print(i)\n",
    "        \n",
    "    return(m*np.sqrt(epsilon))\n",
    "\n",
    "\n",
    "pi(0.001)"
   ]
  }
 ],
 "metadata": {
  "kernelspec": {
   "display_name": "Python 3",
   "language": "python",
   "name": "python3"
  },
  "language_info": {
   "codemirror_mode": {
    "name": "ipython",
    "version": 3
   },
   "file_extension": ".py",
   "mimetype": "text/x-python",
   "name": "python",
   "nbconvert_exporter": "python",
   "pygments_lexer": "ipython3",
   "version": "3.8.10"
  }
 },
 "nbformat": 4,
 "nbformat_minor": 2
}
